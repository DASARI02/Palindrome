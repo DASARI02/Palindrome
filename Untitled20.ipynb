{
  "nbformat": 4,
  "nbformat_minor": 0,
  "metadata": {
    "colab": {
      "provenance": [],
      "authorship_tag": "ABX9TyP6pkGpwSZKsNkCTVdiVH6g",
      "include_colab_link": true
    },
    "kernelspec": {
      "name": "python3",
      "display_name": "Python 3"
    },
    "language_info": {
      "name": "python"
    }
  },
  "cells": [
    {
      "cell_type": "markdown",
      "metadata": {
        "id": "view-in-github",
        "colab_type": "text"
      },
      "source": [
        "<a href=\"https://colab.research.google.com/github/DASARI02/Palindrome/blob/main/Untitled20.ipynb\" target=\"_parent\"><img src=\"https://colab.research.google.com/assets/colab-badge.svg\" alt=\"Open In Colab\"/></a>"
      ]
    },
    {
      "cell_type": "code",
      "execution_count": null,
      "metadata": {
        "id": "QiGKsaahc2Ds"
      },
      "outputs": [],
      "source": [
        "def merge(arr1, arr2, n1, n2): \n",
        "    i = 0\n",
        "    j = 0\n",
        "    k = 0\n",
        "    arr3 = [0] * (n1 + n2) \n",
        "    while (i < n1 and j < n2): \n",
        "        if (arr1[i] < arr2[j]): \n",
        "            arr3[k] = arr1[i] \n",
        "            k = k + 1\n",
        "            i = i + 1\n",
        "        else: \n",
        "            arr3[k] = arr2[j] \n",
        "            k = k + 1\n",
        "            j = j + 1\n",
        "    while (i < n1): \n",
        "        arr3[k] = arr1[i] \n",
        "        k = k + 1\n",
        "        i = i + 1\n",
        "    \n",
        "    while (j < n2): \n",
        "        arr3[k] = arr2[j] \n",
        "        k = k + 1\n",
        "        j = j + 1\n",
        "    for i in range(n1 + n2): \n",
        "        print(arr3[i], end = \" \") \n",
        "  \n",
        "# main \n",
        "n1 = int(input(\"\"))\n",
        "arr1 = list(map(int, input(\"\").strip().split()))[:n1]\n",
        "n2 = int(input(\"\"))\n",
        "arr2 = list(map(int, input(\"\").strip().split()))[:n2] \n",
        "merge(arr1, arr2, n1, n2)"
      ]
    }
  ]
}